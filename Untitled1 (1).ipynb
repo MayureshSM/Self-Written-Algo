{
  "nbformat": 4,
  "nbformat_minor": 0,
  "metadata": {
    "colab": {
      "name": "Untitled1.ipynb",
      "provenance": [],
      "collapsed_sections": []
    },
    "kernelspec": {
      "name": "python3",
      "display_name": "Python 3"
    },
    "language_info": {
      "name": "python"
    }
  },
  "cells": [
    {
      "cell_type": "code",
      "metadata": {
        "id": "WYLvfjVnjmk8"
      },
      "source": [
        "import numpy as np\n",
        "import matplotlib.pyplot as plt\n",
        "from matplotlib import animation\n",
        "\n",
        "rmax=30\n",
        "N=1\n",
        "l=721\n",
        "fig,ax=plt.subplots()\n",
        "\n",
        "R=np.arange(l)*rmax/(l-1)+3\n",
        "ang=np.arange(l)*N*2*np.pi/(l-1)\n",
        "D1=np.array([R*np.cos(ang),R*np.sin(ang)]).T\n",
        "D2=np.array([R*np.cos(ang+np.pi),R*np.sin(ang+np.pi)]).T\n",
        "ax.clear()\n",
        "#plt.plot(D1[:,0],D1[:,1],'r')\n",
        "#plt.plot(D2[:,0],D2[:,1],'b')\n",
        "for i in range(2000):\n",
        "    p=D1[np.random.randint(len(R))]+0.75*np.random.randn(2)\n",
        "    if i==0:\n",
        "        D1s=np.array([p])\n",
        "    else:\n",
        "        D1s=np.concatenate((D1s,np.array([p])))\n",
        "plt.plot(D1s[:,0],D1s[:,1],'.',color='b')\n",
        "for i in range(2000):\n",
        "    p=D2[np.random.randint(len(R))]+0.75*np.random.randn(2)\n",
        "    if i==0:\n",
        "        D2s=np.array([p])\n",
        "    else:\n",
        "        D2s=np.concatenate((D2s,np.array([p])))\n",
        "plt.plot(D2s[:,0],D2s[:,1],'.',color='b')\n",
        "plt.show()\n",
        "#=====================================================================================\n",
        "D=np.concatenate((D1s,D2s))\n"
      ],
      "execution_count": null,
      "outputs": []
    },
    {
      "cell_type": "code",
      "metadata": {
        "id": "sTg4rrARLOYY"
      },
      "source": [
        "#Actual DBSCAN Strats From Here\n",
        "r=2\n",
        "n=6\n",
        "for i in range(len(D)):\n",
        "  Tds=((D[:,0]-D[i,0])**2+(D[:,1]-D[i,1])**2)**0.5\n",
        "  if i==0:\n",
        "    ds=np.array([Tds])\n",
        "  else:\n",
        "    ds=np.concatenate((ds,np.array([Tds])))"
      ],
      "execution_count": null,
      "outputs": []
    },
    {
      "cell_type": "code",
      "metadata": {
        "id": "9R22J06ulRop"
      },
      "source": [
        "M={}\n",
        "c=[]\n",
        "o=[]\n",
        "s=[]\n",
        "cl=np.array([])\n",
        "for i in range(len(ds)):\n",
        "  m=ds[i,:]\n",
        "  ind=np.argsort(m)\n",
        "  dm=np.sort(m)\n",
        "  ind2=np.where(r>m)\n",
        "  if len(ind2[0])>n:\n",
        "    c.append(i)\n",
        "    cl=np.append(cl,ind2[0])\n",
        "    M[i]=['c',ind2[0]]\n",
        "  elif len(ind2[0])==1:\n",
        "    o.append(i)\n",
        "    M[i]=['o',ind2[0]]\n",
        "  else:\n",
        "    s.append(i)\n",
        "    M[i]=['s',ind2[0]]\n",
        "\n",
        "fs=[]\n",
        "for i in range(len(s)):\n",
        "  ind=np.where(s[i]==cl)\n",
        "  if len(ind[0])>0:\n",
        "    fs.append(s[i])\n",
        "  else:\n",
        "    o.append(s[i])\n",
        "\n",
        "print(len(np.unique(fs))+len(np.unique(o))+len(np.unique(cl)))\n",
        "print(len(D))"
      ],
      "execution_count": null,
      "outputs": []
    },
    {
      "cell_type": "code",
      "metadata": {
        "id": "BXQzHlwdsoH6"
      },
      "source": [
        "Clasf={}\n",
        "for i in range(len(c)):\n",
        "  Clasf[i]=np.array([])\n",
        "  for j in range(len(c)):\n",
        "    if M[c[i]][1] in M[c[j]][1]:\n",
        "      Clasf[i]=np.append(Clasf[i],M[c[j]][1]).astype(int)\n",
        "\n",
        "for i in range(len(c)):\n",
        "  Clasf[i]=np.unique(Clasf[i])\n",
        "\n",
        "\n"
      ],
      "execution_count": null,
      "outputs": []
    },
    {
      "cell_type": "code",
      "metadata": {
        "id": "ELyLFRvax5AR"
      },
      "source": [
        "Nodes={}\n",
        "Nodes[0]=np.array([])\n",
        "len(list(Nodes.keys()))\n",
        "for i in range(len(Clasf)):\n",
        "  count=0\n",
        "  for j in range(len(list(Nodes.keys()))):\n",
        "    for u in range(len(Clasf[i])):\n",
        "      ind=np.where(Clasf[i][u]==Nodes[j])[0]\n",
        "      if len(ind)>0:\n",
        "        Nodes[j]=np.unique(np.append(Nodes[j],Clasf[i]))\n",
        "        count=count+1\n",
        "        break\n",
        "    if count>0:\n",
        "      break\n",
        "  if count==0:\n",
        "    Nodes[len(list(Nodes.keys()))]=Clasf[i]\n",
        "len(Nodes)"
      ],
      "execution_count": null,
      "outputs": []
    },
    {
      "cell_type": "code",
      "metadata": {
        "id": "WxfLL5c3l6J6"
      },
      "source": [
        "for u in range(5):\n",
        "  for i in list(Nodes.keys()):\n",
        "    for j in list(Nodes.keys()):\n",
        "      try:\n",
        "        for t in range(len(Nodes[j])):\n",
        "          try:\n",
        "            ind=np.where(Nodes[j][t]==Nodes[i])[0]\n",
        "            if len(ind)>0:\n",
        "              Nodes[j]=np.unique(np.append(Nodes[j],Nodes[i]))\n",
        "              del Nodes[i]\n",
        "              break      \n",
        "\n",
        "          except:\n",
        "            pass\n",
        "      except:\n",
        "        pass\n",
        "  print(\"Length of Nodes:  \",len(Nodes))\n",
        "        \n"
      ],
      "execution_count": null,
      "outputs": []
    },
    {
      "cell_type": "code",
      "metadata": {
        "id": "rsdfodwi4Qdl"
      },
      "source": [
        "S=0\n",
        "plt.plot(D[:,0],D[:,1],'.',color='k')\n",
        "for i in range(1000):\n",
        "  try:\n",
        "    S=S+len(Nodes[i])\n",
        "    plt.plot(D[Nodes[i],0],D[Nodes[i],1],'*')\n",
        "  except:\n",
        "    pass\n",
        "print(len(o)+len(fs)+S)\n",
        "print(len(fs))\n",
        "print(S)\n"
      ],
      "execution_count": null,
      "outputs": []
    },
    {
      "cell_type": "code",
      "metadata": {
        "id": "lmfthV2X8Goc"
      },
      "source": [
        "from matplotlib import animation\n",
        "fig,ax=plt.subplots()\n",
        "def Plot_points(i):\n",
        "  try:\n",
        "    ax.plot(D[Nodes[i+1],0],D[Nodes[i+1],1],'.')\n",
        "  except:\n",
        "    pass\n",
        "anim=animation.FuncAnimation(fig,Plot_points,frames=100)\n",
        "anim.save(\"DBSCAN.mp4\",writer=None)"
      ],
      "execution_count": null,
      "outputs": []
    }
  ]
}